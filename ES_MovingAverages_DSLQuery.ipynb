{
 "cells": [
  {
   "cell_type": "code",
   "execution_count": 21,
   "metadata": {
    "collapsed": true
   },
   "outputs": [],
   "source": [
    "import os\n",
    "import numpy as np\n",
    "import pandas as pd\n",
    "\n",
    "from PIL import Image\n",
    "\n",
    "import matplotlib.pyplot as plt\n",
    "%matplotlib inline"
   ]
  },
  {
   "cell_type": "code",
   "execution_count": 84,
   "metadata": {
    "collapsed": true
   },
   "outputs": [],
   "source": [
    "import json\n",
    "from elasticsearch import Elasticsearch\n",
    "from elasticsearch_dsl import Search"
   ]
  },
  {
   "cell_type": "code",
   "execution_count": 25,
   "metadata": {
    "collapsed": true
   },
   "outputs": [],
   "source": [
    "from elasticsearch_dsl.query import MultiMatch\n"
   ]
  },
  {
   "cell_type": "code",
   "execution_count": 52,
   "metadata": {
    "collapsed": false
   },
   "outputs": [
    {
     "data": {
      "text/plain": [
       "<Elasticsearch([{u'host': u'localhost'}])>"
      ]
     },
     "execution_count": 52,
     "metadata": {},
     "output_type": "execute_result"
    }
   ],
   "source": [
    "from elasticsearch_dsl.connections import connections\n",
    "\n",
    "# default connection that will be used globally, use the connections module and the create_connection method\n",
    "connections.create_connection(hosts=['localhost'], timeout=20)"
   ]
  },
  {
   "cell_type": "code",
   "execution_count": 83,
   "metadata": {
    "collapsed": false
   },
   "outputs": [],
   "source": [
    "from elasticsearch import Elasticsearch\n",
    "from elasticsearch_dsl import Search, Q, A\n",
    "\n",
    "client = Elasticsearch()\n",
    "s = Search().using(client).query(\"match_all\")"
   ]
  },
  {
   "cell_type": "code",
   "execution_count": 82,
   "metadata": {
    "collapsed": false
   },
   "outputs": [
    {
     "data": {
      "text/plain": [
       "10"
      ]
     },
     "execution_count": 82,
     "metadata": {},
     "output_type": "execute_result"
    }
   ],
   "source": [
    "response = s.execute()\n",
    "len(response)"
   ]
  },
  {
   "cell_type": "code",
   "execution_count": 69,
   "metadata": {
    "collapsed": false
   },
   "outputs": [
    {
     "name": "stdout",
     "output_type": "stream",
     "text": [
      "13.8\n",
      "11.0\n",
      "4.4\n",
      "1.5\n",
      "39.0\n",
      "11.0\n",
      "0.9\n",
      "23.3\n",
      "66.0\n",
      "143.0\n"
     ]
    }
   ],
   "source": [
    "for hit in response:\n",
    "    print(hit.d_val)"
   ]
  },
  {
   "cell_type": "code",
   "execution_count": 79,
   "metadata": {
    "collapsed": false
   },
   "outputs": [],
   "source": [
    "testResult = []\n",
    "for h in response:\n",
    "    result = h.comp, h.d_val\n",
    "    testResult.append(result)"
   ]
  },
  {
   "cell_type": "code",
   "execution_count": 81,
   "metadata": {
    "collapsed": false,
    "scrolled": true
   },
   "outputs": [
    {
     "data": {
      "text/plain": [
       "[(u'BUN / CREAT RATIO', 13.8),\n",
       " (u'ANION GAP', 11.0),\n",
       " (u'ALBUMIN', 4.4),\n",
       " (u'A/G RATIO', 1.5),\n",
       " (u'ASPARTATE AMINOTRANSFERASE (AST)', 39.0),\n",
       " (u'BLOOD UREA NITROGEN', 11.0),\n",
       " (u'CREATININE', 0.9),\n",
       " (u'BUN / CREAT RATIO', 23.3),\n",
       " (u'ALKALINE PHOSPHATASE', 66.0),\n",
       " (u'SODIUM', 143.0)]"
      ]
     },
     "execution_count": 81,
     "metadata": {},
     "output_type": "execute_result"
    }
   ],
   "source": [
    "testResult"
   ]
  }
 ],
 "metadata": {},
 "nbformat": 4,
 "nbformat_minor": 0
}

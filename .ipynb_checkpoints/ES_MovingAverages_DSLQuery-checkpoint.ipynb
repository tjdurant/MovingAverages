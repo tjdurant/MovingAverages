{
 "cells": [
  {
   "cell_type": "code",
   "execution_count": 21,
   "metadata": {
    "collapsed": true
   },
   "outputs": [],
   "source": [
    "import os\n",
    "import numpy as np\n",
    "import pandas as pd\n",
    "\n",
    "from PIL import Image\n",
    "\n",
    "import matplotlib.pyplot as plt\n",
    "%matplotlib inline"
   ]
  },
  {
   "cell_type": "code",
   "execution_count": 22,
   "metadata": {
    "collapsed": true
   },
   "outputs": [],
   "source": [
    "from elasticsearch import Elasticsearch\n",
    "from elasticsearch_dsl import Search"
   ]
  },
  {
   "cell_type": "code",
   "execution_count": 25,
   "metadata": {
    "collapsed": true
   },
   "outputs": [],
   "source": [
    "from elasticsearch_dsl.query import MultiMatch\n"
   ]
  },
  {
   "cell_type": "code",
   "execution_count": 52,
   "metadata": {
    "collapsed": false
   },
   "outputs": [
    {
     "data": {
      "text/plain": [
       "<Elasticsearch([{u'host': u'localhost'}])>"
      ]
     },
     "execution_count": 52,
     "metadata": {},
     "output_type": "execute_result"
    }
   ],
   "source": [
    "from elasticsearch_dsl.connections import connections\n",
    "\n",
    "# default connection that will be used globally, use the connections module and the create_connection method\n",
    "connections.create_connection(hosts=['localhost'], timeout=20)"
   ]
  },
  {
   "cell_type": "code",
   "execution_count": 63,
   "metadata": {
    "collapsed": false
   },
   "outputs": [],
   "source": [
    "from elasticsearch import Elasticsearch\n",
    "from elasticsearch_dsl import Search, Q\n",
    "\n",
    "client = Elasticsearch()\n",
    "s = Search().using(client).query(\"match_all\")"
   ]
  },
  {
   "cell_type": "code",
   "execution_count": 64,
   "metadata": {
    "collapsed": false
   },
   "outputs": [
    {
     "data": {
      "text/plain": [
       "<Response: [<Result(moving_averages/moving_averages/AVHQqoYlhAztJNgoi49L): {u'pr_code': u'LAB17', u'camp': u'YORK STREET CAMPUS', u'com...}>, <Result(moving_averages/moving_averages/AVHQqoYlhAztJNgoi49M): {u'pr_code': u'LAB17', u'camp': u'YORK STREET CAMPUS', u'com...}>, <Result(moving_averages/moving_averages/AVHQqoYlhAztJNgoi49S): {u'pr_code': u'LAB17', u'camp': u'YORK STREET CAMPUS', u'com...}>, <Result(moving_averages/moving_averages/AVHQqoYlhAztJNgoi49U): {u'pr_code': u'LAB17', u'camp': u'YORK STREET CAMPUS', u'com...}>, <Result(moving_averages/moving_averages/AVHQqoYlhAztJNgoi49V): {u'pr_code': u'LAB17', u'camp': u'YORK STREET CAMPUS', u'com...}>, <Result(moving_averages/moving_averages/AVHQqoYlhAztJNgoi49s): {u'pr_code': u'LAB17', u'camp': u'YORK STREET CAMPUS', u'com...}>, <Result(moving_averages/moving_averages/AVHQqoYlhAztJNgoi49_): {u'pr_code': u'LAB17', u'camp': u'YORK STREET CAMPUS', u'com...}>, <Result(moving_averages/moving_averages/AVHQqoYlhAztJNgoi4-A): {u'pr_code': u'LAB17', u'camp': u'YORK STREET CAMPUS', u'com...}>, <Result(moving_averages/moving_averages/AVHQqoYlhAztJNgoi4-N): {u'pr_code': u'LAB17', u'camp': u'YORK STREET CAMPUS', u'com...}>, <Result(moving_averages/moving_averages/AVHQqoYlhAztJNgoi4-W): {u'pr_code': u'LAB17', u'camp': u'YORK STREET CAMPUS', u'com...}>]>"
      ]
     },
     "execution_count": 64,
     "metadata": {},
     "output_type": "execute_result"
    }
   ],
   "source": [
    "response = s.execute()\n",
    "response"
   ]
  },
  {
   "cell_type": "code",
   "execution_count": 69,
   "metadata": {
    "collapsed": false
   },
   "outputs": [
    {
     "name": "stdout",
     "output_type": "stream",
     "text": [
      "13.8\n",
      "11.0\n",
      "4.4\n",
      "1.5\n",
      "39.0\n",
      "11.0\n",
      "0.9\n",
      "23.3\n",
      "66.0\n",
      "143.0\n"
     ]
    }
   ],
   "source": [
    "for hit in response:\n",
    "    print(hit.d_val)"
   ]
  },
  {
   "cell_type": "code",
   "execution_count": 76,
   "metadata": {
    "collapsed": false
   },
   "outputs": [
    {
     "name": "stdout",
     "output_type": "stream",
     "text": [
      " BUN / CREAT RATIO 13.8\n",
      "ANION GAP 11.0\n",
      "ALBUMIN 4.4\n",
      "A/G RATIO 1.5\n",
      "ASPARTATE AMINOTRANSFERASE (AST) 39.0\n",
      "BLOOD UREA NITROGEN 11.0\n",
      "CREATININE 0.9\n",
      "BUN / CREAT RATIO 23.3\n",
      "ALKALINE PHOSPHATASE 66.0\n",
      "SODIUM 143.0\n"
     ]
    }
   ],
   "source": [
    "for h in response:\n",
    "    test = h.comp \n",
    "    result = h.d_val\n",
    "    "
   ]
  }
 ],
 "metadata": {},
 "nbformat": 4,
 "nbformat_minor": 0
}
